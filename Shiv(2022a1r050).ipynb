{
 "cells": [
  {
   "cell_type": "code",
   "execution_count": 22,
   "id": "52a22ec0-e941-4136-addc-7f7a65cd5fc5",
   "metadata": {},
   "outputs": [
    {
     "name": "stdout",
     "output_type": "stream",
     "text": [
      "                      *    \n",
      "                 *    *    \n",
      "            *    *    *    \n",
      "       *    *    *    *    \n",
      "  *    *    *    *    *    \n"
     ]
    }
   ],
   "source": [
    "\n",
    "rows=5\n",
    "spaces=22\n",
    "for i in range(rows):\n",
    "    print(\" \" * spaces, end=\"\")\n",
    "\n",
    "    for j in range(i + 1):\n",
    "        print(\"*\",end=\"    \")\n",
    "    print()\n",
    "    spaces-= 5\n",
    "    \n"
   ]
  },
  {
   "cell_type": "code",
   "execution_count": 25,
   "id": "e83705c3-4b9c-401b-806e-fcb5c7700dca",
   "metadata": {},
   "outputs": [
    {
     "name": "stdin",
     "output_type": "stream",
     "text": [
      "Enter the first number:  12\n",
      "Enter the second number:  14\n"
     ]
    },
    {
     "name": "stdout",
     "output_type": "stream",
     "text": [
      "The result of 12.0 divided by 14.0 is 0.8571428571428571\n"
     ]
    }
   ],
   "source": [
    "def get_number(prompt):\n",
    "    while True:\n",
    "        try:\n",
    "            number = float(input(prompt))\n",
    "            return number\n",
    "        except ValueError:\n",
    "            print(\"Invalid input. Please enter a valid number.\")\n",
    "\n",
    "def divide_numbers():\n",
    "    while True:\n",
    "        try:\n",
    "            num1 = get_number(\"Enter the first number: \")\n",
    "            num2 = get_number(\"Enter the second number: \")\n",
    "            result = num1 / num2\n",
    "            print(f\"The result of {num1} divided by {num2} is {result}\")\n",
    "            break\n",
    "        except ZeroDivisionError:\n",
    "            print(\"Division by zero is not allowed. Please enter a non-zero second number.\")\n",
    "\n",
    "if __name__ == \"__main__\":\n",
    "    divide_numbers()"
   ]
  },
  {
   "cell_type": "code",
   "execution_count": null,
   "id": "d6680842-2885-4f71-815b-da5b8f3b9ef6",
   "metadata": {},
   "outputs": [],
   "source": []
  }
 ],
 "metadata": {
  "kernelspec": {
   "display_name": "Python 3 (ipykernel)",
   "language": "python",
   "name": "python3"
  },
  "language_info": {
   "codemirror_mode": {
    "name": "ipython",
    "version": 3
   },
   "file_extension": ".py",
   "mimetype": "text/x-python",
   "name": "python",
   "nbconvert_exporter": "python",
   "pygments_lexer": "ipython3",
   "version": "3.12.4"
  }
 },
 "nbformat": 4,
 "nbformat_minor": 5
}
